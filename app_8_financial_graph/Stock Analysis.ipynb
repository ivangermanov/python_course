{
 "cells": [
  {
   "cell_type": "code",
   "execution_count": 2,
   "metadata": {
    "scrolled": false
   },
   "outputs": [
    {
     "name": "stdout",
     "output_type": "stream",
     "text": [
      "[*********************100%***********************]  1 of 1 downloaded\n"
     ]
    }
   ],
   "source": [
    "import pandas as pd\n",
    "pd.core.common.is_list_like = pd.api.types.is_list_like\n",
    "from bokeh.plotting import figure, show, output_file, output_notebook\n",
    "from pandas_datareader import data as pdr\n",
    "import datetime\n",
    "import fix_yahoo_finance as yf\n",
    "from bokeh.embed import components\n",
    "from bokeh.resources import CDN\n",
    "\n",
    "start=datetime.datetime(2015,11,1)\n",
    "end=datetime.datetime(2016,3,10)\n",
    "yf.pdr_override()\n",
    "df=pdr.get_data_yahoo(tickers=\"GOOG\", start=start, end=end)\n",
    "\n",
    "df=df.drop(columns=[\"Adj Close\", 'Volume'])\n",
    "\n",
    "def inc_dec(close, open):\n",
    "    if close>open:\n",
    "        return \"Increase\"\n",
    "    elif close<open:\n",
    "        return \"Decrease\"\n",
    "    else:\n",
    "        return \"Equal\"\n",
    "\n",
    "df[\"Status\"]=[inc_dec(c, o) for c, o in zip(df.Close,df.Open)]\n",
    "df[\"Middle\"]=(df.Open+df.Close)/2\n",
    "df[\"Height\"]=abs(df.Open-df.Close)\n",
    "\n",
    "p=figure(x_axis_type='datetime', width=1000, height=300, sizing_mode=\"scale_width\")\n",
    "p.title.text=\"Candlestick Chart\"\n",
    "p.grid.grid_line_alpha=0.3\n",
    "\n",
    "hours_12=12*60*60*1000\n",
    "\n",
    "p.segment(df.index, df.High, df.index, df.Low, line_color=\"black\")\n",
    "p.rect(df.index[df.Status==\"Increase\"], df.Middle[df.Status==\"Increase\"], hours_12, df.Height[df.Status==\"Increase\"], fill_color=\"#CCFFFF\", line_color=\"black\")\n",
    "p.rect(df.index[df.Status==\"Decrease\"], df.Middle[df.Status==\"Decrease\"], hours_12, df.Height[df.Status==\"Decrease\"], fill_color=\"#FF3333\", line_color=\"black\")\n",
    "\n",
    "script1, div1=components(p)\n",
    "cdn_js=CDN.js_files\n",
    "cdn_css=CDN.css_files\n",
    "\n",
    "\n",
    "output_file(\"CS.html\")\n",
    "show(p)"
   ]
  }
 ],
 "metadata": {
  "kernelspec": {
   "display_name": "Python 3",
   "language": "python",
   "name": "python3"
  },
  "language_info": {
   "codemirror_mode": {
    "name": "ipython",
    "version": 3
   },
   "file_extension": ".py",
   "mimetype": "text/x-python",
   "name": "python",
   "nbconvert_exporter": "python",
   "pygments_lexer": "ipython3",
   "version": "3.7.0"
  }
 },
 "nbformat": 4,
 "nbformat_minor": 2
}
